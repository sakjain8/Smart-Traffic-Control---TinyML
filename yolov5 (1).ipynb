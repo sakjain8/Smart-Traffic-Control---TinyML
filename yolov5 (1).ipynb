{
 "cells": [
  {
   "cell_type": "code",
   "execution_count": 7,
   "id": "68c4edf5-c735-4a2e-b9eb-6f19317c90a7",
   "metadata": {},
   "outputs": [
    {
     "name": "stderr",
     "output_type": "stream",
     "text": [
      "Using cache found in C:\\Users\\saksh/.cache\\torch\\hub\\ultralytics_yolov5_master\n",
      "YOLOv5  2025-1-26 Python-3.12.1 torch-2.5.1+cpu CPU\n",
      "\n",
      "Fusing layers... \n",
      "YOLOv5s summary: 213 layers, 7225885 parameters, 0 gradients, 16.4 GFLOPs\n",
      "Adding AutoShape... \n",
      "C:\\Users\\saksh/.cache\\torch\\hub\\ultralytics_yolov5_master\\models\\common.py:894: FutureWarning: `torch.cuda.amp.autocast(args...)` is deprecated. Please use `torch.amp.autocast('cuda', args...)` instead.\n",
      "  with amp.autocast(autocast):\n"
     ]
    },
    {
     "name": "stdout",
     "output_type": "stream",
     "text": [
      "Processed image saved to C:\\Users\\saksh\\Desktop\\outputs\\00 (82).png\n"
     ]
    },
    {
     "name": "stderr",
     "output_type": "stream",
     "text": [
      "C:\\Users\\saksh/.cache\\torch\\hub\\ultralytics_yolov5_master\\models\\common.py:894: FutureWarning: `torch.cuda.amp.autocast(args...)` is deprecated. Please use `torch.amp.autocast('cuda', args...)` instead.\n",
      "  with amp.autocast(autocast):\n"
     ]
    },
    {
     "name": "stdout",
     "output_type": "stream",
     "text": [
      "Processed image saved to C:\\Users\\saksh\\Desktop\\outputs\\00 (310).jpg\n"
     ]
    }
   ],
   "source": [
    "import torch\n",
    "from pathlib import Path\n",
    "import cv2\n",
    "from matplotlib import pyplot as plt\n",
    "\n",
    "model = torch.hub.load('ultralytics/yolov5', 'yolov5s', pretrained=True)\n",
    "\n",
    "# Define the vehicle classes to detect\n",
    "vehicle_classes = ['car', 'motorcycle', 'bus', 'truck']\n",
    "\n",
    "def detect_and_classify(image_path, save_dir):\n",
    "    # Load the image\n",
    "    img = cv2.imread(image_path)\n",
    "    img_rgb = cv2.cvtColor(img, cv2.COLOR_BGR2RGB)  # Convert BGR to RGB for visualization\n",
    "\n",
    "    # Perform object detection\n",
    "    results = model(img)\n",
    "\n",
    "    # Filter results for vehicle classes\n",
    "    detections = results.pandas().xyxy[0]  # Get results as pandas DataFrame\n",
    "    vehicle_detections = detections[detections['name'].isin(vehicle_classes)]\n",
    "\n",
    "    # Draw bounding boxes on the image\n",
    "    for _, row in vehicle_detections.iterrows():\n",
    "        x1, y1, x2, y2, conf, cls = int(row['xmin']), int(row['ymin']), int(row['xmax']), int(row['ymax']), row['confidence'], row['name']\n",
    "        label = f\"{cls} {conf:.2f}\"\n",
    "        color = (0, 255, 0)  # Green for bounding boxes\n",
    "\n",
    "        # Draw rectangle and label\n",
    "        cv2.rectangle(img, (x1, y1), (x2, y2), color, 2)\n",
    "        cv2.putText(img, label, (x1, y1 - 10), cv2.FONT_HERSHEY_SIMPLEX, 0.5, color, 2)\n",
    "\n",
    "    # Save and display the result\n",
    "    output_path = Path(save_dir) / Path(image_path).name\n",
    "    cv2.imwrite(str(output_path), img)\n",
    "\n",
    "    # Show the image (optional)\n",
    "    plt.imshow(img_rgb)\n",
    "    plt.axis('off')\n",
    "    plt.show()\n",
    "\n",
    "    print(f\"Processed image saved to {output_path}\")\n",
    "\n",
    "\n",
    "# Input images and output directory\n",
    "input_images = ['C:\\\\Users\\\\saksh\\\\Desktop\\\\Traffic Dataset\\\\images\\\\test\\\\00 (82).png', 'C:\\\\Users\\\\saksh\\\\Desktop\\\\Traffic Dataset\\\\images\\\\test\\\\00 (310).jpg'] \n",
    "output_dir = 'C:\\\\Users\\\\saksh\\\\Desktop\\\\outputs\\\\'\n",
    "Path(output_dir).mkdir(exist_ok=True)\n",
    "\n",
    "# Process each image\n",
    "for image_path in input_images:\n",
    "    detect_and_classify(image_path, output_dir)\n"
   ]
  },
  {
   "cell_type": "code",
   "execution_count": null,
   "id": "2c48a7d6-6560-4a2b-b795-a40f8ff4e18f",
   "metadata": {},
   "outputs": [],
   "source": []
  },
  {
   "cell_type": "code",
   "execution_count": null,
   "id": "a6c7f4d5-fee2-45c4-8d42-1621d72ca081",
   "metadata": {},
   "outputs": [],
   "source": []
  },
  {
   "cell_type": "code",
   "execution_count": null,
   "id": "105a2916-fa01-497f-b3e8-39fd6a068c66",
   "metadata": {},
   "outputs": [],
   "source": []
  },
  {
   "cell_type": "code",
   "execution_count": null,
   "id": "3b3681e5-7c82-4f86-8570-428aa2132a22",
   "metadata": {},
   "outputs": [],
   "source": []
  },
  {
   "cell_type": "code",
   "execution_count": 7,
   "id": "c3ada5f6-3ba5-49cf-9533-0f47129cf1df",
   "metadata": {},
   "outputs": [
    {
     "name": "stderr",
     "output_type": "stream",
     "text": [
      "Using cache found in C:\\Users\\saksh/.cache\\torch\\hub\\ultralytics_yolov5_master\n",
      "YOLOv5  2025-1-26 Python-3.12.1 torch-2.5.1+cpu CPU\n",
      "\n",
      "Fusing layers... \n",
      "YOLOv5s summary: 213 layers, 7225885 parameters, 0 gradients, 16.4 GFLOPs\n",
      "Adding AutoShape... \n",
      "C:\\Users\\saksh/.cache\\torch\\hub\\ultralytics_yolov5_master\\models\\common.py:894: FutureWarning: `torch.cuda.amp.autocast(args...)` is deprecated. Please use `torch.amp.autocast('cuda', args...)` instead.\n",
      "  with amp.autocast(autocast):\n"
     ]
    },
    {
     "name": "stdout",
     "output_type": "stream",
     "text": [
      "Processed image saved to C:\\Users\\saksh\\Desktop\\outputs\\00 (82).png\n",
      "Bounding boxes for C:\\Users\\saksh\\Desktop\\Traffic Dataset\\images\\test\\00 (82).png:\n",
      "{'class': 'car', 'confidence': 0.8122566938400269, 'bbox': [450, 304, 523, 380]}\n",
      "{'class': 'bus', 'confidence': 0.745283842086792, 'bbox': [517, 142, 876, 432]}\n",
      "{'class': 'truck', 'confidence': 0.3811919391155243, 'bbox': [297, 250, 460, 417]}\n",
      "{'class': 'bus', 'confidence': 0.3710654377937317, 'bbox': [298, 251, 460, 419]}\n"
     ]
    },
    {
     "name": "stderr",
     "output_type": "stream",
     "text": [
      "C:\\Users\\saksh/.cache\\torch\\hub\\ultralytics_yolov5_master\\models\\common.py:894: FutureWarning: `torch.cuda.amp.autocast(args...)` is deprecated. Please use `torch.amp.autocast('cuda', args...)` instead.\n",
      "  with amp.autocast(autocast):\n"
     ]
    },
    {
     "name": "stdout",
     "output_type": "stream",
     "text": [
      "Processed image saved to C:\\Users\\saksh\\Desktop\\outputs\\00 (310).jpg\n",
      "Bounding boxes for C:\\Users\\saksh\\Desktop\\Traffic Dataset\\images\\test\\00 (310).jpg:\n",
      "{'class': 'car', 'confidence': 0.8813073039054871, 'bbox': [260, 1470, 515, 1868]}\n",
      "{'class': 'car', 'confidence': 0.858241617679596, 'bbox': [708, 1456, 986, 1805]}\n",
      "{'class': 'car', 'confidence': 0.8004510998725891, 'bbox': [647, 1255, 813, 1453]}\n",
      "{'class': 'car', 'confidence': 0.7291436195373535, 'bbox': [0, 1367, 204, 1771]}\n",
      "{'class': 'car', 'confidence': 0.7169467210769653, 'bbox': [352, 1265, 520, 1482]}\n",
      "{'class': 'car', 'confidence': 0.6985809206962585, 'bbox': [387, 1159, 514, 1290]}\n",
      "{'class': 'car', 'confidence': 0.6475229859352112, 'bbox': [841, 1848, 1080, 1920]}\n",
      "{'class': 'bus', 'confidence': 0.6405997276306152, 'bbox': [585, 954, 722, 1111]}\n",
      "{'class': 'truck', 'confidence': 0.6160309314727783, 'bbox': [144, 1130, 304, 1340]}\n",
      "{'class': 'car', 'confidence': 0.608860194683075, 'bbox': [353, 953, 423, 1022]}\n",
      "{'class': 'bus', 'confidence': 0.5246292352676392, 'bbox': [635, 1091, 764, 1261]}\n",
      "{'class': 'car', 'confidence': 0.48880887031555176, 'bbox': [396, 921, 449, 966]}\n",
      "{'class': 'car', 'confidence': 0.4656680226325989, 'bbox': [416, 1059, 519, 1167]}\n",
      "{'class': 'car', 'confidence': 0.46100783348083496, 'bbox': [469, 1023, 539, 1105]}\n",
      "{'class': 'car', 'confidence': 0.4316681921482086, 'bbox': [1, 1884, 64, 1919]}\n",
      "{'class': 'truck', 'confidence': 0.41332006454467773, 'bbox': [274, 1024, 382, 1170]}\n",
      "{'class': 'car', 'confidence': 0.41028469800949097, 'bbox': [417, 892, 461, 926]}\n",
      "{'class': 'truck', 'confidence': 0.37897685170173645, 'bbox': [638, 1093, 763, 1258]}\n",
      "{'class': 'truck', 'confidence': 0.33318015933036804, 'bbox': [413, 1062, 517, 1163]}\n",
      "{'class': 'car', 'confidence': 0.29209575057029724, 'bbox': [274, 1018, 385, 1170]}\n",
      "{'class': 'truck', 'confidence': 0.26615941524505615, 'bbox': [552, 874, 628, 965]}\n"
     ]
    }
   ],
   "source": [
    "import torch\n",
    "from pathlib import Path\n",
    "import cv2\n",
    "from matplotlib import pyplot as plt\n",
    "\n",
    "model = torch.hub.load('ultralytics/yolov5', 'yolov5s', pretrained=True)\n",
    "\n",
    "# Define the vehicle classes to detect\n",
    "vehicle_classes = ['car', 'two wheeler', 'bus', 'truck', 'motorbike']\n",
    "\n",
    "def detect_and_classify(image_path, save_dir, confidence_threshold=0.37):\n",
    "    # Load the image\n",
    "    img = cv2.imread(image_path)\n",
    "    img_rgb = cv2.cvtColor(img, cv2.COLOR_BGR2RGB)  # Convert BGR to RGB for visualization\n",
    "\n",
    "    # Perform object detection\n",
    "    results = model(img)\n",
    "\n",
    "    # Filter results for vehicle classes\n",
    "    detections = results.pandas().xyxy[0]  # Get results as pandas DataFrame\n",
    "    vehicle_detections = detections[detections['name'].isin(vehicle_classes)]\n",
    "\n",
    "    # List to store bounding boxes and their confidence scores\n",
    "    boxes_with_confidence = []\n",
    "\n",
    "    # Draw bounding boxes on the image\n",
    "    for _, row in vehicle_detections.iterrows():\n",
    "        x1, y1, x2, y2, conf, cls = int(row['xmin']), int(row['ymin']), int(row['xmax']), int(row['ymax']), row['confidence'], row['name']\n",
    "        label = f\"{cls} {conf:.2f}\"\n",
    "        color = (0, 255, 0)  # Green for bounding boxes\n",
    "\n",
    "        # Append bounding box and confidence to the list\n",
    "        boxes_with_confidence.append({\n",
    "            'class': cls,\n",
    "            'confidence': conf,\n",
    "            'bbox': [x1, y1, x2, y2]\n",
    "        })\n",
    "\n",
    "        # Draw rectangle and label\n",
    "        cv2.rectangle(img, (x1, y1), (x2, y2), color, 2)\n",
    "        cv2.putText(img, label, (x1, y1 - 10), cv2.FONT_HERSHEY_SIMPLEX, 0.5, color, 2)\n",
    "\n",
    "    # Save and display the result\n",
    "    output_path = Path(save_dir) / Path(image_path).name\n",
    "    cv2.imwrite(str(output_path), img)\n",
    "\n",
    "    # Show the image (optional)\n",
    "    plt.imshow(img_rgb)\n",
    "    plt.axis('off')\n",
    "    plt.show()\n",
    "\n",
    "    print(f\"Processed image saved to {output_path}\")\n",
    "\n",
    "    # Return the list of bounding boxes with confidence scores\n",
    "    return boxes_with_confidence\n",
    "\n",
    "\n",
    "# Input images and output directory\n",
    "input_images = ['C:\\\\Users\\\\saksh\\\\Desktop\\\\Traffic Dataset\\\\images\\\\test\\\\00 (82).png', 'C:\\\\Users\\\\saksh\\\\Desktop\\\\Traffic Dataset\\\\images\\\\test\\\\00 (310).jpg'] \n",
    "output_dir = 'C:\\\\Users\\\\saksh\\\\Desktop\\\\outputs\\\\'\n",
    "Path(output_dir).mkdir(exist_ok=True)\n",
    "\n",
    "# Process each image\n",
    "for image_path in input_images:\n",
    "    boxes = detect_and_classify(image_path, output_dir)\n",
    "    print(f\"Bounding boxes for {image_path}:\")\n",
    "    for box in boxes:\n",
    "        print(box)\n"
   ]
  },
  {
   "cell_type": "code",
   "execution_count": null,
   "id": "923daaec-5ba1-43cf-93b1-8f0142c36703",
   "metadata": {},
   "outputs": [],
   "source": []
  },
  {
   "cell_type": "code",
   "execution_count": null,
   "id": "a8bf3f78-b0ca-4182-a939-fa5bc7e962a9",
   "metadata": {},
   "outputs": [],
   "source": []
  },
  {
   "cell_type": "code",
   "execution_count": null,
   "id": "50b2e4ae-3ea4-405f-976d-dc05f3ccac01",
   "metadata": {},
   "outputs": [],
   "source": []
  },
  {
   "cell_type": "code",
   "execution_count": 8,
   "id": "439b41bb-a8ef-4408-96f2-0c329a11a500",
   "metadata": {},
   "outputs": [
    {
     "name": "stderr",
     "output_type": "stream",
     "text": [
      "Using cache found in C:\\Users\\saksh/.cache\\torch\\hub\\ultralytics_yolov5_master\n",
      "YOLOv5  2025-1-26 Python-3.12.1 torch-2.5.1+cpu CPU\n",
      "\n",
      "Fusing layers... \n",
      "YOLOv5s summary: 213 layers, 7225885 parameters, 0 gradients, 16.4 GFLOPs\n",
      "Adding AutoShape... \n",
      "C:\\Users\\saksh/.cache\\torch\\hub\\ultralytics_yolov5_master\\models\\common.py:894: FutureWarning: `torch.cuda.amp.autocast(args...)` is deprecated. Please use `torch.amp.autocast('cuda', args...)` instead.\n",
      "  with amp.autocast(autocast):\n"
     ]
    },
    {
     "name": "stdout",
     "output_type": "stream",
     "text": [
      "Processed image saved to C:\\Users\\saksh\\Desktop\\outputs\\00 (82).png\n"
     ]
    },
    {
     "name": "stderr",
     "output_type": "stream",
     "text": [
      "C:\\Users\\saksh/.cache\\torch\\hub\\ultralytics_yolov5_master\\models\\common.py:894: FutureWarning: `torch.cuda.amp.autocast(args...)` is deprecated. Please use `torch.amp.autocast('cuda', args...)` instead.\n",
      "  with amp.autocast(autocast):\n"
     ]
    },
    {
     "name": "stdout",
     "output_type": "stream",
     "text": [
      "Processed image saved to C:\\Users\\saksh\\Desktop\\outputs\\00 (310).jpg\n"
     ]
    },
    {
     "name": "stderr",
     "output_type": "stream",
     "text": [
      "C:\\Users\\saksh/.cache\\torch\\hub\\ultralytics_yolov5_master\\models\\common.py:894: FutureWarning: `torch.cuda.amp.autocast(args...)` is deprecated. Please use `torch.amp.autocast('cuda', args...)` instead.\n",
      "  with amp.autocast(autocast):\n"
     ]
    },
    {
     "name": "stdout",
     "output_type": "stream",
     "text": [
      "Processed image saved to C:\\Users\\saksh\\Desktop\\outputs\\00 (82).png\n"
     ]
    },
    {
     "name": "stderr",
     "output_type": "stream",
     "text": [
      "C:\\Users\\saksh/.cache\\torch\\hub\\ultralytics_yolov5_master\\models\\common.py:894: FutureWarning: `torch.cuda.amp.autocast(args...)` is deprecated. Please use `torch.amp.autocast('cuda', args...)` instead.\n",
      "  with amp.autocast(autocast):\n"
     ]
    },
    {
     "name": "stdout",
     "output_type": "stream",
     "text": [
      "Processed image saved to C:\\Users\\saksh\\Desktop\\outputs\\00 (310).jpg\n",
      "Vehicle counts for each image:\n",
      "Image 1: {'car': 1, 'motorcycle': 0, 'bus': 1, 'truck': 1}\n",
      "Image 2: {'car': 13, 'motorcycle': 0, 'bus': 2, 'truck': 2}\n",
      "Image 3: {'car': 1, 'motorcycle': 0, 'bus': 1, 'truck': 1}\n",
      "Image 4: {'car': 13, 'motorcycle': 0, 'bus': 2, 'truck': 2}\n"
     ]
    }
   ],
   "source": [
    "import torch\n",
    "from pathlib import Path\n",
    "import cv2\n",
    "from matplotlib import pyplot as plt\n",
    "\n",
    "model = torch.hub.load('ultralytics/yolov5', 'yolov5s', pretrained=True)\n",
    "\n",
    "# Define the vehicle classes to detect\n",
    "vehicle_classes = ['car', 'motorcycle', 'bus', 'truck']\n",
    "\n",
    "def detect_and_classify(image_path, save_dir, confidence_threshold=0.38):\n",
    "    # Load the image\n",
    "    img = cv2.imread(image_path)\n",
    "    img_rgb = cv2.cvtColor(img, cv2.COLOR_BGR2RGB)  # Convert BGR to RGB for visualization\n",
    "\n",
    "    # Perform object detection\n",
    "    results = model(img)\n",
    "\n",
    "    # Filter results for vehicle classes\n",
    "    detections = results.pandas().xyxy[0]  # Get results as pandas DataFrame\n",
    "    vehicle_detections = detections[detections['name'].isin(vehicle_classes)]\n",
    "\n",
    "    # List to store bounding boxes and their confidence scores\n",
    "    boxes_with_confidence = []\n",
    "\n",
    "    # Dictionary to count vehicle classes\n",
    "    vehicle_counts = {cls: 0 for cls in vehicle_classes}\n",
    "\n",
    "    # Process and filter detections based on confidence threshold\n",
    "    for _, row in vehicle_detections.iterrows():\n",
    "        conf, cls = row['confidence'], row['name']\n",
    "        if conf > confidence_threshold:\n",
    "            x1, y1, x2, y2 = int(row['xmin']), int(row['ymin']), int(row['xmax']), int(row['ymax'])\n",
    "            label = f\"{cls} {conf:.2f}\"\n",
    "            color = (0, 255, 0)  # Green for bounding boxes\n",
    "\n",
    "            # Append bounding box and confidence to the list\n",
    "            boxes_with_confidence.append({\n",
    "                'class': cls,\n",
    "                'confidence': conf,\n",
    "                'bbox': [x1, y1, x2, y2]\n",
    "            })\n",
    "\n",
    "            # Count the detected class\n",
    "            vehicle_counts[cls] += 1\n",
    "\n",
    "            # Draw rectangle and label\n",
    "            cv2.rectangle(img, (x1, y1), (x2, y2), color, 2)\n",
    "            cv2.putText(img, label, (x1, y1 - 10), cv2.FONT_HERSHEY_SIMPLEX, 0.5, color, 2)\n",
    "\n",
    "    # Save and display the result\n",
    "    output_path = Path(save_dir) / Path(image_path).name\n",
    "    cv2.imwrite(str(output_path), img)\n",
    "\n",
    "    # Show the image (optional)\n",
    "    plt.imshow(img_rgb)\n",
    "    plt.axis('off')\n",
    "    plt.show()\n",
    "\n",
    "    print(f\"Processed image saved to {output_path}\")\n",
    "\n",
    "    # Return the list of bounding boxes with confidence scores and vehicle counts\n",
    "    return boxes_with_confidence, vehicle_counts\n",
    "\n",
    "\n",
    "# Input images and output directory\n",
    "input_images = [\n",
    "    'C:\\\\Users\\\\saksh\\\\Desktop\\\\Traffic Dataset\\\\images\\\\test\\\\00 (82).png', \n",
    "    'C:\\\\Users\\\\saksh\\\\Desktop\\\\Traffic Dataset\\\\images\\\\test\\\\00 (310).jpg',\n",
    "    'C:\\\\Users\\\\saksh\\\\Desktop\\\\Traffic Dataset\\\\images\\\\test\\\\00 (82).png', \n",
    "    'C:\\\\Users\\\\saksh\\\\Desktop\\\\Traffic Dataset\\\\images\\\\test\\\\00 (310).jpg'\n",
    "]  # Add your 4 image paths here\n",
    "output_dir = 'C:\\\\Users\\\\saksh\\\\Desktop\\\\outputs\\\\'\n",
    "Path(output_dir).mkdir(exist_ok=True)\n",
    "\n",
    "# Variables to store vehicle counts for each image\n",
    "vehicle_counts_img1 = {}\n",
    "vehicle_counts_img2 = {}\n",
    "vehicle_counts_img3 = {}\n",
    "vehicle_counts_img4 = {}\n",
    "\n",
    "# Process each image and store counts in separate variables\n",
    "vehicle_counts_img1 = detect_and_classify(input_images[0], output_dir)[1]\n",
    "vehicle_counts_img2 = detect_and_classify(input_images[1], output_dir)[1]\n",
    "vehicle_counts_img3 = detect_and_classify(input_images[2], output_dir)[1]\n",
    "vehicle_counts_img4 = detect_and_classify(input_images[3], output_dir)[1]\n",
    "\n",
    "# Print the results for analysis\n",
    "print(\"Vehicle counts for each image:\")\n",
    "print(f\"Image 1: {vehicle_counts_img1}\")\n",
    "print(f\"Image 2: {vehicle_counts_img2}\")\n",
    "print(f\"Image 3: {vehicle_counts_img3}\")\n",
    "print(f\"Image 4: {vehicle_counts_img4}\")\n"
   ]
  },
  {
   "cell_type": "code",
   "execution_count": null,
   "id": "2c56f3a5-287d-4084-9d0e-32fd449e22d2",
   "metadata": {},
   "outputs": [],
   "source": []
  },
  {
   "cell_type": "code",
   "execution_count": null,
   "id": "17064a5b-737b-46a8-8ef9-721c86941891",
   "metadata": {},
   "outputs": [],
   "source": []
  },
  {
   "cell_type": "code",
   "execution_count": null,
   "id": "cddb0f42-02b4-4ade-aa31-5f43f66a7314",
   "metadata": {},
   "outputs": [],
   "source": []
  },
  {
   "cell_type": "code",
   "execution_count": null,
   "id": "c222e3cd-191a-45e9-89d4-697b8dda4da6",
   "metadata": {},
   "outputs": [],
   "source": []
  },
  {
   "cell_type": "code",
   "execution_count": 15,
   "id": "9d5d1a35-e4f1-4bb8-9750-53cf7550001f",
   "metadata": {},
   "outputs": [
    {
     "name": "stderr",
     "output_type": "stream",
     "text": [
      "Using cache found in C:\\Users\\saksh/.cache\\torch\\hub\\ultralytics_yolov5_master\n",
      "YOLOv5  2025-1-26 Python-3.12.1 torch-2.5.1+cpu CPU\n",
      "\n",
      "Fusing layers... \n",
      "YOLOv5s summary: 213 layers, 7225885 parameters, 0 gradients, 16.4 GFLOPs\n",
      "Adding AutoShape... \n",
      "C:\\Users\\saksh/.cache\\torch\\hub\\ultralytics_yolov5_master\\models\\common.py:894: FutureWarning: `torch.cuda.amp.autocast(args...)` is deprecated. Please use `torch.amp.autocast('cuda', args...)` instead.\n",
      "  with amp.autocast(autocast):\n"
     ]
    },
    {
     "name": "stdout",
     "output_type": "stream",
     "text": [
      "Processing image set 1...\n",
      "Processed image saved to C:\\Users\\saksh\\Desktop\\outputs\\Redlight 1\\1.jpg\n",
      "Vehicle counts for folder 1, image 1: {'car': 0, 'motorcycle': 0, 'bus': 0, 'truck': 1}\n"
     ]
    },
    {
     "name": "stderr",
     "output_type": "stream",
     "text": [
      "C:\\Users\\saksh/.cache\\torch\\hub\\ultralytics_yolov5_master\\models\\common.py:894: FutureWarning: `torch.cuda.amp.autocast(args...)` is deprecated. Please use `torch.amp.autocast('cuda', args...)` instead.\n",
      "  with amp.autocast(autocast):\n"
     ]
    },
    {
     "name": "stdout",
     "output_type": "stream",
     "text": [
      "Processed image saved to C:\\Users\\saksh\\Desktop\\outputs\\Redlight 2\\1.jpg\n",
      "Vehicle counts for folder 2, image 1: {'car': 1, 'motorcycle': 0, 'bus': 0, 'truck': 0}\n"
     ]
    },
    {
     "name": "stderr",
     "output_type": "stream",
     "text": [
      "C:\\Users\\saksh/.cache\\torch\\hub\\ultralytics_yolov5_master\\models\\common.py:894: FutureWarning: `torch.cuda.amp.autocast(args...)` is deprecated. Please use `torch.amp.autocast('cuda', args...)` instead.\n",
      "  with amp.autocast(autocast):\n"
     ]
    },
    {
     "name": "stdout",
     "output_type": "stream",
     "text": [
      "Processed image saved to C:\\Users\\saksh\\Desktop\\outputs\\Redlight 3\\1.jpg\n",
      "Vehicle counts for folder 3, image 1: {'car': 10, 'motorcycle': 0, 'bus': 1, 'truck': 2}\n"
     ]
    },
    {
     "name": "stderr",
     "output_type": "stream",
     "text": [
      "C:\\Users\\saksh/.cache\\torch\\hub\\ultralytics_yolov5_master\\models\\common.py:894: FutureWarning: `torch.cuda.amp.autocast(args...)` is deprecated. Please use `torch.amp.autocast('cuda', args...)` instead.\n",
      "  with amp.autocast(autocast):\n"
     ]
    },
    {
     "name": "stdout",
     "output_type": "stream",
     "text": [
      "Processed image saved to C:\\Users\\saksh\\Desktop\\outputs\\Redlight 4\\1.jpg\n",
      "Vehicle counts for folder 4, image 1: {'car': 1, 'motorcycle': 0, 'bus': 0, 'truck': 0}\n"
     ]
    },
    {
     "name": "stdin",
     "output_type": "stream",
     "text": [
      "Press Enter to process the next set of images...\n",
      "\n",
      "\n",
      "\n",
      "\n",
      "\n",
      "\n",
      " \n"
     ]
    },
    {
     "name": "stdout",
     "output_type": "stream",
     "text": [
      "Processing image set 2...\n"
     ]
    },
    {
     "name": "stderr",
     "output_type": "stream",
     "text": [
      "C:\\Users\\saksh/.cache\\torch\\hub\\ultralytics_yolov5_master\\models\\common.py:894: FutureWarning: `torch.cuda.amp.autocast(args...)` is deprecated. Please use `torch.amp.autocast('cuda', args...)` instead.\n",
      "  with amp.autocast(autocast):\n"
     ]
    },
    {
     "name": "stdout",
     "output_type": "stream",
     "text": [
      "Processed image saved to C:\\Users\\saksh\\Desktop\\outputs\\Redlight 1\\2.jpg\n",
      "Vehicle counts for folder 1, image 2: {'car': 0, 'motorcycle': 0, 'bus': 0, 'truck': 1}\n"
     ]
    },
    {
     "name": "stderr",
     "output_type": "stream",
     "text": [
      "C:\\Users\\saksh/.cache\\torch\\hub\\ultralytics_yolov5_master\\models\\common.py:894: FutureWarning: `torch.cuda.amp.autocast(args...)` is deprecated. Please use `torch.amp.autocast('cuda', args...)` instead.\n",
      "  with amp.autocast(autocast):\n"
     ]
    },
    {
     "name": "stdout",
     "output_type": "stream",
     "text": [
      "Processed image saved to C:\\Users\\saksh\\Desktop\\outputs\\Redlight 2\\2.jpg\n",
      "Vehicle counts for folder 2, image 2: {'car': 12, 'motorcycle': 0, 'bus': 2, 'truck': 4}\n"
     ]
    },
    {
     "name": "stderr",
     "output_type": "stream",
     "text": [
      "C:\\Users\\saksh/.cache\\torch\\hub\\ultralytics_yolov5_master\\models\\common.py:894: FutureWarning: `torch.cuda.amp.autocast(args...)` is deprecated. Please use `torch.amp.autocast('cuda', args...)` instead.\n",
      "  with amp.autocast(autocast):\n"
     ]
    },
    {
     "name": "stdout",
     "output_type": "stream",
     "text": [
      "Processed image saved to C:\\Users\\saksh\\Desktop\\outputs\\Redlight 3\\2.jpg\n",
      "Vehicle counts for folder 3, image 2: {'car': 0, 'motorcycle': 0, 'bus': 0, 'truck': 1}\n"
     ]
    },
    {
     "name": "stderr",
     "output_type": "stream",
     "text": [
      "C:\\Users\\saksh/.cache\\torch\\hub\\ultralytics_yolov5_master\\models\\common.py:894: FutureWarning: `torch.cuda.amp.autocast(args...)` is deprecated. Please use `torch.amp.autocast('cuda', args...)` instead.\n",
      "  with amp.autocast(autocast):\n"
     ]
    },
    {
     "name": "stdout",
     "output_type": "stream",
     "text": [
      "Processed image saved to C:\\Users\\saksh\\Desktop\\outputs\\Redlight 4\\2.jpg\n",
      "Vehicle counts for folder 4, image 2: {'car': 0, 'motorcycle': 0, 'bus': 0, 'truck': 3}\n"
     ]
    },
    {
     "name": "stdin",
     "output_type": "stream",
     "text": [
      "Press Enter to process the next set of images...\n",
      "\n",
      "\n",
      "\n",
      "\n",
      "\n",
      "\n",
      " \n"
     ]
    },
    {
     "name": "stdout",
     "output_type": "stream",
     "text": [
      "Processing image set 3...\n"
     ]
    },
    {
     "name": "stderr",
     "output_type": "stream",
     "text": [
      "C:\\Users\\saksh/.cache\\torch\\hub\\ultralytics_yolov5_master\\models\\common.py:894: FutureWarning: `torch.cuda.amp.autocast(args...)` is deprecated. Please use `torch.amp.autocast('cuda', args...)` instead.\n",
      "  with amp.autocast(autocast):\n"
     ]
    },
    {
     "name": "stdout",
     "output_type": "stream",
     "text": [
      "Processed image saved to C:\\Users\\saksh\\Desktop\\outputs\\Redlight 1\\3.jpg\n",
      "Vehicle counts for folder 1, image 3: {'car': 1, 'motorcycle': 0, 'bus': 0, 'truck': 0}\n"
     ]
    },
    {
     "name": "stderr",
     "output_type": "stream",
     "text": [
      "C:\\Users\\saksh/.cache\\torch\\hub\\ultralytics_yolov5_master\\models\\common.py:894: FutureWarning: `torch.cuda.amp.autocast(args...)` is deprecated. Please use `torch.amp.autocast('cuda', args...)` instead.\n",
      "  with amp.autocast(autocast):\n"
     ]
    },
    {
     "name": "stdout",
     "output_type": "stream",
     "text": [
      "Processed image saved to C:\\Users\\saksh\\Desktop\\outputs\\Redlight 2\\3.jpg\n",
      "Vehicle counts for folder 2, image 3: {'car': 0, 'motorcycle': 0, 'bus': 0, 'truck': 1}\n"
     ]
    },
    {
     "name": "stderr",
     "output_type": "stream",
     "text": [
      "C:\\Users\\saksh/.cache\\torch\\hub\\ultralytics_yolov5_master\\models\\common.py:894: FutureWarning: `torch.cuda.amp.autocast(args...)` is deprecated. Please use `torch.amp.autocast('cuda', args...)` instead.\n",
      "  with amp.autocast(autocast):\n"
     ]
    },
    {
     "name": "stdout",
     "output_type": "stream",
     "text": [
      "Processed image saved to C:\\Users\\saksh\\Desktop\\outputs\\Redlight 3\\3.jpg\n",
      "Vehicle counts for folder 3, image 3: {'car': 5, 'motorcycle': 0, 'bus': 0, 'truck': 3}\n"
     ]
    },
    {
     "name": "stderr",
     "output_type": "stream",
     "text": [
      "C:\\Users\\saksh/.cache\\torch\\hub\\ultralytics_yolov5_master\\models\\common.py:894: FutureWarning: `torch.cuda.amp.autocast(args...)` is deprecated. Please use `torch.amp.autocast('cuda', args...)` instead.\n",
      "  with amp.autocast(autocast):\n"
     ]
    },
    {
     "name": "stdout",
     "output_type": "stream",
     "text": [
      "Processed image saved to C:\\Users\\saksh\\Desktop\\outputs\\Redlight 4\\3.jpg\n",
      "Vehicle counts for folder 4, image 3: {'car': 10, 'motorcycle': 0, 'bus': 2, 'truck': 2}\n"
     ]
    },
    {
     "name": "stdin",
     "output_type": "stream",
     "text": [
      "Press Enter to process the next set of images...\n",
      "\n",
      "\n",
      "\n",
      "\n",
      "\n",
      "\n",
      " \n"
     ]
    },
    {
     "name": "stdout",
     "output_type": "stream",
     "text": [
      "Processing image set 4...\n"
     ]
    },
    {
     "name": "stderr",
     "output_type": "stream",
     "text": [
      "C:\\Users\\saksh/.cache\\torch\\hub\\ultralytics_yolov5_master\\models\\common.py:894: FutureWarning: `torch.cuda.amp.autocast(args...)` is deprecated. Please use `torch.amp.autocast('cuda', args...)` instead.\n",
      "  with amp.autocast(autocast):\n"
     ]
    },
    {
     "name": "stdout",
     "output_type": "stream",
     "text": [
      "Processed image saved to C:\\Users\\saksh\\Desktop\\outputs\\Redlight 1\\4.jpg\n",
      "Vehicle counts for folder 1, image 4: {'car': 1, 'motorcycle': 0, 'bus': 0, 'truck': 1}\n"
     ]
    },
    {
     "name": "stderr",
     "output_type": "stream",
     "text": [
      "C:\\Users\\saksh/.cache\\torch\\hub\\ultralytics_yolov5_master\\models\\common.py:894: FutureWarning: `torch.cuda.amp.autocast(args...)` is deprecated. Please use `torch.amp.autocast('cuda', args...)` instead.\n",
      "  with amp.autocast(autocast):\n"
     ]
    },
    {
     "name": "stdout",
     "output_type": "stream",
     "text": [
      "Processed image saved to C:\\Users\\saksh\\Desktop\\outputs\\Redlight 2\\4.jpg\n",
      "Vehicle counts for folder 2, image 4: {'car': 0, 'motorcycle': 0, 'bus': 0, 'truck': 3}\n"
     ]
    },
    {
     "name": "stderr",
     "output_type": "stream",
     "text": [
      "C:\\Users\\saksh/.cache\\torch\\hub\\ultralytics_yolov5_master\\models\\common.py:894: FutureWarning: `torch.cuda.amp.autocast(args...)` is deprecated. Please use `torch.amp.autocast('cuda', args...)` instead.\n",
      "  with amp.autocast(autocast):\n"
     ]
    },
    {
     "name": "stdout",
     "output_type": "stream",
     "text": [
      "Processed image saved to C:\\Users\\saksh\\Desktop\\outputs\\Redlight 3\\4.jpg\n",
      "Vehicle counts for folder 3, image 4: {'car': 10, 'motorcycle': 0, 'bus': 1, 'truck': 2}\n"
     ]
    },
    {
     "name": "stderr",
     "output_type": "stream",
     "text": [
      "C:\\Users\\saksh/.cache\\torch\\hub\\ultralytics_yolov5_master\\models\\common.py:894: FutureWarning: `torch.cuda.amp.autocast(args...)` is deprecated. Please use `torch.amp.autocast('cuda', args...)` instead.\n",
      "  with amp.autocast(autocast):\n"
     ]
    },
    {
     "name": "stdout",
     "output_type": "stream",
     "text": [
      "Processed image saved to C:\\Users\\saksh\\Desktop\\outputs\\Redlight 4\\4.jpg\n",
      "Vehicle counts for folder 4, image 4: {'car': 1, 'motorcycle': 0, 'bus': 1, 'truck': 1}\n"
     ]
    },
    {
     "name": "stdin",
     "output_type": "stream",
     "text": [
      "Press Enter to process the next set of images...\n",
      "\n",
      "\n",
      "\n",
      "\n",
      "\n",
      "\n",
      " \n"
     ]
    },
    {
     "name": "stdout",
     "output_type": "stream",
     "text": [
      "Processing image set 5...\n"
     ]
    },
    {
     "name": "stderr",
     "output_type": "stream",
     "text": [
      "C:\\Users\\saksh/.cache\\torch\\hub\\ultralytics_yolov5_master\\models\\common.py:894: FutureWarning: `torch.cuda.amp.autocast(args...)` is deprecated. Please use `torch.amp.autocast('cuda', args...)` instead.\n",
      "  with amp.autocast(autocast):\n"
     ]
    },
    {
     "name": "stdout",
     "output_type": "stream",
     "text": [
      "Processed image saved to C:\\Users\\saksh\\Desktop\\outputs\\Redlight 1\\5.jpg\n",
      "Vehicle counts for folder 1, image 5: {'car': 10, 'motorcycle': 0, 'bus': 1, 'truck': 2}\n"
     ]
    },
    {
     "name": "stderr",
     "output_type": "stream",
     "text": [
      "C:\\Users\\saksh/.cache\\torch\\hub\\ultralytics_yolov5_master\\models\\common.py:894: FutureWarning: `torch.cuda.amp.autocast(args...)` is deprecated. Please use `torch.amp.autocast('cuda', args...)` instead.\n",
      "  with amp.autocast(autocast):\n"
     ]
    },
    {
     "name": "stdout",
     "output_type": "stream",
     "text": [
      "Processed image saved to C:\\Users\\saksh\\Desktop\\outputs\\Redlight 2\\5.jpg\n",
      "Vehicle counts for folder 2, image 5: {'car': 1, 'motorcycle': 0, 'bus': 1, 'truck': 1}\n"
     ]
    },
    {
     "name": "stderr",
     "output_type": "stream",
     "text": [
      "C:\\Users\\saksh/.cache\\torch\\hub\\ultralytics_yolov5_master\\models\\common.py:894: FutureWarning: `torch.cuda.amp.autocast(args...)` is deprecated. Please use `torch.amp.autocast('cuda', args...)` instead.\n",
      "  with amp.autocast(autocast):\n"
     ]
    },
    {
     "name": "stdout",
     "output_type": "stream",
     "text": [
      "Processed image saved to C:\\Users\\saksh\\Desktop\\outputs\\Redlight 3\\5.jpg\n",
      "Vehicle counts for folder 3, image 5: {'car': 2, 'motorcycle': 0, 'bus': 0, 'truck': 1}\n"
     ]
    },
    {
     "name": "stderr",
     "output_type": "stream",
     "text": [
      "C:\\Users\\saksh/.cache\\torch\\hub\\ultralytics_yolov5_master\\models\\common.py:894: FutureWarning: `torch.cuda.amp.autocast(args...)` is deprecated. Please use `torch.amp.autocast('cuda', args...)` instead.\n",
      "  with amp.autocast(autocast):\n"
     ]
    },
    {
     "name": "stdout",
     "output_type": "stream",
     "text": [
      "Processed image saved to C:\\Users\\saksh\\Desktop\\outputs\\Redlight 4\\5.jpg\n",
      "Vehicle counts for folder 4, image 5: {'car': 0, 'motorcycle': 0, 'bus': 0, 'truck': 1}\n"
     ]
    },
    {
     "name": "stdin",
     "output_type": "stream",
     "text": [
      "Press Enter to process the next set of images...\n",
      "\n",
      "\n",
      "\n",
      "\n",
      "\n",
      "\n",
      " \n"
     ]
    },
    {
     "name": "stdout",
     "output_type": "stream",
     "text": [
      "All images processed.\n"
     ]
    }
   ],
   "source": [
    "import torch\n",
    "from pathlib import Path\n",
    "import cv2\n",
    "from matplotlib import pyplot as plt\n",
    "\n",
    "model = torch.hub.load('ultralytics/yolov5', 'yolov5s', pretrained=True)\n",
    "\n",
    "# Define the vehicle classes to detect\n",
    "vehicle_classes = ['car', 'motorcycle', 'bus', 'truck']\n",
    "\n",
    "def detect_and_classify(image_path, save_dir, confidence_threshold=0.37):\n",
    "    # Load the image\n",
    "    img = cv2.imread(image_path)\n",
    "    img_rgb = cv2.cvtColor(img, cv2.COLOR_BGR2RGB)  # Convert BGR to RGB for visualization\n",
    "\n",
    "    # Perform object detection\n",
    "    results = model(img)\n",
    "\n",
    "    # Filter results for vehicle classes\n",
    "    detections = results.pandas().xyxy[0]  # Get results as pandas DataFrame\n",
    "    vehicle_detections = detections[detections['name'].isin(vehicle_classes)]\n",
    "\n",
    "    # List to store bounding boxes and their confidence scores\n",
    "    boxes_with_confidence = []\n",
    "\n",
    "    # Dictionary to count vehicle classes\n",
    "    vehicle_counts = {cls: 0 for cls in vehicle_classes}\n",
    "\n",
    "    # Process and filter detections based on confidence threshold\n",
    "    for _, row in vehicle_detections.iterrows():\n",
    "        conf, cls = row['confidence'], row['name']\n",
    "        if conf > confidence_threshold:\n",
    "            x1, y1, x2, y2 = int(row['xmin']), int(row['ymin']), int(row['xmax']), int(row['ymax'])\n",
    "            label = f\"{cls} {conf:.2f}\"\n",
    "            color = (0, 255, 0)  # Green for bounding boxes\n",
    "\n",
    "            # Append bounding box and confidence to the list\n",
    "            boxes_with_confidence.append({\n",
    "                'class': cls,\n",
    "                'confidence': conf,\n",
    "                'bbox': [x1, y1, x2, y2]\n",
    "            })\n",
    "\n",
    "            # Count the detected class\n",
    "            vehicle_counts[cls] += 1\n",
    "\n",
    "            # Draw rectangle and label\n",
    "            cv2.rectangle(img, (x1, y1), (x2, y2), color, 2)\n",
    "            cv2.putText(img, label, (x1, y1 - 10), cv2.FONT_HERSHEY_SIMPLEX, 0.5, color, 2)\n",
    "\n",
    "    # Save and display the result\n",
    "    output_path = Path(save_dir) / Path(image_path).name\n",
    "    cv2.imwrite(str(output_path), img)\n",
    "\n",
    "    # Show the image (optional)\n",
    "    plt.imshow(img_rgb)\n",
    "    plt.axis('off')\n",
    "    plt.show()\n",
    "\n",
    "    print(f\"Processed image saved to {output_path}\")\n",
    "\n",
    "    # Return the list of bounding boxes with confidence scores and vehicle counts\n",
    "    return boxes_with_confidence, vehicle_counts\n",
    "\n",
    "\n",
    "# Define the folders containing the images\n",
    "folders = [\n",
    "    Path('C:\\\\Users\\\\saksh\\\\Desktop\\\\Inputs\\\\Redlight 1\\\\'),\n",
    "    Path('C:\\\\Users\\\\saksh\\\\Desktop\\\\Inputs\\\\Redlight 2\\\\'),\n",
    "    Path('C:\\\\Users\\\\saksh\\\\Desktop\\\\Inputs\\\\Redlight 3\\\\'),\n",
    "    Path('C:\\\\Users\\\\saksh\\\\Desktop\\\\Inputs\\\\Redlight 4\\\\')\n",
    "]\n",
    "\n",
    "# Ensure each folder exists\n",
    "folders = [Path(folder) for folder in folders]\n",
    "for folder in folders:\n",
    "    assert folder.exists(), f\"Folder {folder} does not exist.\"\n",
    "\n",
    "# Collect and sort image paths by filename (ensure they are processed in order: 1.jpg, 2.jpg, etc.)\n",
    "images_in_folders = [sorted(folder.glob(\"*.jpg\"), key=lambda x: int(x.stem)) for folder in folders]\n",
    "\n",
    "# Define the base output directory\n",
    "base_output_dir = Path(\"C:\\\\Users\\\\saksh\\\\Desktop\\\\outputs\\\\\")\n",
    "\n",
    "# Create output directories for each folder under the base output directory\n",
    "output_dirs = [base_output_dir / folder.name for folder in folders]\n",
    "\n",
    "for output_dir in output_dirs:\n",
    "    output_dir.mkdir(parents=True, exist_ok=True)\n",
    "\n",
    "# Initialize an index to track which image to process from each folder\n",
    "current_index = 0\n",
    "max_images = min(len(images) for images in images_in_folders)  # Ensure all folders have the same number of images\n",
    "\n",
    "# Process images interactively\n",
    "while current_index < max_images:\n",
    "    print(f\"Processing image set {current_index + 1}...\")\n",
    "    \n",
    "    # Process one image from each folder\n",
    "    for i, (folder_images, output_dir) in enumerate(zip(images_in_folders, output_dirs)):\n",
    "        image_path = folder_images[current_index]  # Get the current image\n",
    "        _, vehicle_counts = detect_and_classify(str(image_path), str(output_dir))  # Process the image\n",
    "        print(f\"Vehicle counts for folder {i + 1}, image {current_index + 1}: {vehicle_counts}\")\n",
    "    \n",
    "    # Wait for user to press Enter\n",
    "    input(\"Press Enter to process the next set of images...\\n\\n\\n\\n\\n\\n\\n\")\n",
    "\n",
    "    # Move to the next image in each folder\n",
    "    current_index += 1\n",
    "\n",
    "print(\"All images processed.\")\n"
   ]
  },
  {
   "cell_type": "code",
   "execution_count": null,
   "id": "8bf55928-f2d0-481d-b0c3-803d1c4de1fb",
   "metadata": {},
   "outputs": [],
   "source": []
  },
  {
   "cell_type": "code",
   "execution_count": null,
   "id": "130de0a7-4d70-47ec-b67e-1a27341e6885",
   "metadata": {},
   "outputs": [],
   "source": []
  },
  {
   "cell_type": "code",
   "execution_count": null,
   "id": "0963d6b2-941a-4e6a-8227-af5e0d855b0a",
   "metadata": {},
   "outputs": [],
   "source": []
  },
  {
   "cell_type": "code",
   "execution_count": null,
   "id": "513be18d-f7ea-4685-8c4a-be40d25b9ad5",
   "metadata": {},
   "outputs": [],
   "source": []
  },
  {
   "cell_type": "code",
   "execution_count": null,
   "id": "b6fb946b-30a4-46a6-8b9c-d1429ddebd2f",
   "metadata": {},
   "outputs": [],
   "source": []
  },
  {
   "cell_type": "raw",
   "id": "f7b985c9-93fc-498b-9e5a-eea6e2a89966",
   "metadata": {},
   "source": [
    "--------------------------------------------------------------------------------------------------------------------------------------------------------"
   ]
  },
  {
   "cell_type": "code",
   "execution_count": 9,
   "id": "cd01211d-8897-41e6-84d2-1cc081e545d0",
   "metadata": {},
   "outputs": [
    {
     "name": "stderr",
     "output_type": "stream",
     "text": [
      "Using cache found in C:\\Users\\saksh/.cache\\torch\\hub\\ultralytics_yolov5_master\n",
      "YOLOv5  2025-1-26 Python-3.10.0 torch-2.6.0+cpu CPU\n",
      "\n",
      "Fusing layers... \n",
      "YOLOv5s summary: 213 layers, 7225885 parameters, 0 gradients, 16.4 GFLOPs\n",
      "Adding AutoShape... \n",
      "C:\\Users\\saksh/.cache\\torch\\hub\\ultralytics_yolov5_master\\models\\common.py:894: FutureWarning: `torch.cuda.amp.autocast(args...)` is deprecated. Please use `torch.amp.autocast('cuda', args...)` instead.\n",
      "  with amp.autocast(autocast):\n"
     ]
    },
    {
     "name": "stdout",
     "output_type": "stream",
     "text": [
      "Processing image set 1...\n",
      "Processed image saved to C:\\Users\\saksh\\Desktop\\project\\outputs\\Redlight 1\\1.jpg\n",
      "Vehicle counts for Signal 1, image 1: {'car': 8, 'motorcycle': 8, 'bus': 5, 'truck': 1}\n"
     ]
    },
    {
     "name": "stderr",
     "output_type": "stream",
     "text": [
      "C:\\Users\\saksh/.cache\\torch\\hub\\ultralytics_yolov5_master\\models\\common.py:894: FutureWarning: `torch.cuda.amp.autocast(args...)` is deprecated. Please use `torch.amp.autocast('cuda', args...)` instead.\n",
      "  with amp.autocast(autocast):\n"
     ]
    },
    {
     "name": "stdout",
     "output_type": "stream",
     "text": [
      "Processed image saved to C:\\Users\\saksh\\Desktop\\project\\outputs\\Redlight 2\\1.jpg\n",
      "Vehicle counts for Signal 2, image 1: {'car': 1, 'motorcycle': 0, 'bus': 0, 'truck': 0}\n"
     ]
    },
    {
     "name": "stderr",
     "output_type": "stream",
     "text": [
      "C:\\Users\\saksh/.cache\\torch\\hub\\ultralytics_yolov5_master\\models\\common.py:894: FutureWarning: `torch.cuda.amp.autocast(args...)` is deprecated. Please use `torch.amp.autocast('cuda', args...)` instead.\n",
      "  with amp.autocast(autocast):\n"
     ]
    },
    {
     "name": "stdout",
     "output_type": "stream",
     "text": [
      "Processed image saved to C:\\Users\\saksh\\Desktop\\project\\outputs\\Redlight 3\\1.jpg\n",
      "Vehicle counts for Signal 3, image 1: {'car': 10, 'motorcycle': 0, 'bus': 1, 'truck': 2}\n"
     ]
    },
    {
     "name": "stderr",
     "output_type": "stream",
     "text": [
      "C:\\Users\\saksh/.cache\\torch\\hub\\ultralytics_yolov5_master\\models\\common.py:894: FutureWarning: `torch.cuda.amp.autocast(args...)` is deprecated. Please use `torch.amp.autocast('cuda', args...)` instead.\n",
      "  with amp.autocast(autocast):\n"
     ]
    },
    {
     "name": "stdout",
     "output_type": "stream",
     "text": [
      "Processed image saved to C:\\Users\\saksh\\Desktop\\project\\outputs\\Redlight 4\\1.jpg\n",
      "Vehicle counts for Signal 4, image 1: {'car': 1, 'motorcycle': 0, 'bus': 0, 'truck': 0}\n"
     ]
    },
    {
     "name": "stdin",
     "output_type": "stream",
     "text": [
      "Press Enter to process the next set of images...\n",
      " \n"
     ]
    },
    {
     "name": "stdout",
     "output_type": "stream",
     "text": [
      "Processing image set 2...\n"
     ]
    },
    {
     "name": "stderr",
     "output_type": "stream",
     "text": [
      "C:\\Users\\saksh/.cache\\torch\\hub\\ultralytics_yolov5_master\\models\\common.py:894: FutureWarning: `torch.cuda.amp.autocast(args...)` is deprecated. Please use `torch.amp.autocast('cuda', args...)` instead.\n",
      "  with amp.autocast(autocast):\n"
     ]
    },
    {
     "name": "stdout",
     "output_type": "stream",
     "text": [
      "Processed image saved to C:\\Users\\saksh\\Desktop\\project\\outputs\\Redlight 1\\2.jpg\n",
      "Vehicle counts for Signal 1, image 2: {'car': 0, 'motorcycle': 0, 'bus': 0, 'truck': 1}\n"
     ]
    },
    {
     "name": "stderr",
     "output_type": "stream",
     "text": [
      "C:\\Users\\saksh/.cache\\torch\\hub\\ultralytics_yolov5_master\\models\\common.py:894: FutureWarning: `torch.cuda.amp.autocast(args...)` is deprecated. Please use `torch.amp.autocast('cuda', args...)` instead.\n",
      "  with amp.autocast(autocast):\n"
     ]
    },
    {
     "name": "stdout",
     "output_type": "stream",
     "text": [
      "Processed image saved to C:\\Users\\saksh\\Desktop\\project\\outputs\\Redlight 2\\2.jpg\n",
      "Vehicle counts for Signal 2, image 2: {'car': 12, 'motorcycle': 0, 'bus': 2, 'truck': 4}\n"
     ]
    },
    {
     "name": "stderr",
     "output_type": "stream",
     "text": [
      "C:\\Users\\saksh/.cache\\torch\\hub\\ultralytics_yolov5_master\\models\\common.py:894: FutureWarning: `torch.cuda.amp.autocast(args...)` is deprecated. Please use `torch.amp.autocast('cuda', args...)` instead.\n",
      "  with amp.autocast(autocast):\n"
     ]
    },
    {
     "name": "stdout",
     "output_type": "stream",
     "text": [
      "Processed image saved to C:\\Users\\saksh\\Desktop\\project\\outputs\\Redlight 3\\2.jpg\n",
      "Vehicle counts for Signal 3, image 2: {'car': 0, 'motorcycle': 0, 'bus': 0, 'truck': 1}\n"
     ]
    },
    {
     "name": "stderr",
     "output_type": "stream",
     "text": [
      "C:\\Users\\saksh/.cache\\torch\\hub\\ultralytics_yolov5_master\\models\\common.py:894: FutureWarning: `torch.cuda.amp.autocast(args...)` is deprecated. Please use `torch.amp.autocast('cuda', args...)` instead.\n",
      "  with amp.autocast(autocast):\n"
     ]
    },
    {
     "name": "stdout",
     "output_type": "stream",
     "text": [
      "Processed image saved to C:\\Users\\saksh\\Desktop\\project\\outputs\\Redlight 4\\2.jpg\n",
      "Vehicle counts for Signal 4, image 2: {'car': 0, 'motorcycle': 0, 'bus': 0, 'truck': 3}\n"
     ]
    },
    {
     "name": "stdin",
     "output_type": "stream",
     "text": [
      "Press Enter to process the next set of images...\n",
      " \n"
     ]
    },
    {
     "name": "stdout",
     "output_type": "stream",
     "text": [
      "Processing image set 3...\n"
     ]
    },
    {
     "name": "stderr",
     "output_type": "stream",
     "text": [
      "C:\\Users\\saksh/.cache\\torch\\hub\\ultralytics_yolov5_master\\models\\common.py:894: FutureWarning: `torch.cuda.amp.autocast(args...)` is deprecated. Please use `torch.amp.autocast('cuda', args...)` instead.\n",
      "  with amp.autocast(autocast):\n"
     ]
    },
    {
     "name": "stdout",
     "output_type": "stream",
     "text": [
      "Processed image saved to C:\\Users\\saksh\\Desktop\\project\\outputs\\Redlight 1\\3.jpg\n",
      "Vehicle counts for Signal 1, image 3: {'car': 1, 'motorcycle': 0, 'bus': 0, 'truck': 0}\n"
     ]
    },
    {
     "name": "stderr",
     "output_type": "stream",
     "text": [
      "C:\\Users\\saksh/.cache\\torch\\hub\\ultralytics_yolov5_master\\models\\common.py:894: FutureWarning: `torch.cuda.amp.autocast(args...)` is deprecated. Please use `torch.amp.autocast('cuda', args...)` instead.\n",
      "  with amp.autocast(autocast):\n"
     ]
    },
    {
     "name": "stdout",
     "output_type": "stream",
     "text": [
      "Processed image saved to C:\\Users\\saksh\\Desktop\\project\\outputs\\Redlight 2\\3.jpg\n",
      "Vehicle counts for Signal 2, image 3: {'car': 0, 'motorcycle': 0, 'bus': 0, 'truck': 1}\n"
     ]
    },
    {
     "name": "stderr",
     "output_type": "stream",
     "text": [
      "C:\\Users\\saksh/.cache\\torch\\hub\\ultralytics_yolov5_master\\models\\common.py:894: FutureWarning: `torch.cuda.amp.autocast(args...)` is deprecated. Please use `torch.amp.autocast('cuda', args...)` instead.\n",
      "  with amp.autocast(autocast):\n"
     ]
    },
    {
     "name": "stdout",
     "output_type": "stream",
     "text": [
      "Processed image saved to C:\\Users\\saksh\\Desktop\\project\\outputs\\Redlight 3\\3.jpg\n",
      "Vehicle counts for Signal 3, image 3: {'car': 5, 'motorcycle': 0, 'bus': 0, 'truck': 3}\n"
     ]
    },
    {
     "name": "stderr",
     "output_type": "stream",
     "text": [
      "C:\\Users\\saksh/.cache\\torch\\hub\\ultralytics_yolov5_master\\models\\common.py:894: FutureWarning: `torch.cuda.amp.autocast(args...)` is deprecated. Please use `torch.amp.autocast('cuda', args...)` instead.\n",
      "  with amp.autocast(autocast):\n"
     ]
    },
    {
     "name": "stdout",
     "output_type": "stream",
     "text": [
      "Processed image saved to C:\\Users\\saksh\\Desktop\\project\\outputs\\Redlight 4\\3.jpg\n",
      "Vehicle counts for Signal 4, image 3: {'car': 10, 'motorcycle': 0, 'bus': 2, 'truck': 2}\n"
     ]
    },
    {
     "name": "stdin",
     "output_type": "stream",
     "text": [
      "Press Enter to process the next set of images...\n",
      " \n"
     ]
    },
    {
     "name": "stdout",
     "output_type": "stream",
     "text": [
      "Processing image set 4...\n"
     ]
    },
    {
     "name": "stderr",
     "output_type": "stream",
     "text": [
      "C:\\Users\\saksh/.cache\\torch\\hub\\ultralytics_yolov5_master\\models\\common.py:894: FutureWarning: `torch.cuda.amp.autocast(args...)` is deprecated. Please use `torch.amp.autocast('cuda', args...)` instead.\n",
      "  with amp.autocast(autocast):\n"
     ]
    },
    {
     "name": "stdout",
     "output_type": "stream",
     "text": [
      "Processed image saved to C:\\Users\\saksh\\Desktop\\project\\outputs\\Redlight 1\\4.jpg\n",
      "Vehicle counts for Signal 1, image 4: {'car': 1, 'motorcycle': 0, 'bus': 0, 'truck': 1}\n"
     ]
    },
    {
     "name": "stderr",
     "output_type": "stream",
     "text": [
      "C:\\Users\\saksh/.cache\\torch\\hub\\ultralytics_yolov5_master\\models\\common.py:894: FutureWarning: `torch.cuda.amp.autocast(args...)` is deprecated. Please use `torch.amp.autocast('cuda', args...)` instead.\n",
      "  with amp.autocast(autocast):\n"
     ]
    },
    {
     "name": "stdout",
     "output_type": "stream",
     "text": [
      "Processed image saved to C:\\Users\\saksh\\Desktop\\project\\outputs\\Redlight 2\\4.jpg\n",
      "Vehicle counts for Signal 2, image 4: {'car': 0, 'motorcycle': 0, 'bus': 0, 'truck': 3}\n"
     ]
    },
    {
     "name": "stderr",
     "output_type": "stream",
     "text": [
      "C:\\Users\\saksh/.cache\\torch\\hub\\ultralytics_yolov5_master\\models\\common.py:894: FutureWarning: `torch.cuda.amp.autocast(args...)` is deprecated. Please use `torch.amp.autocast('cuda', args...)` instead.\n",
      "  with amp.autocast(autocast):\n"
     ]
    },
    {
     "name": "stdout",
     "output_type": "stream",
     "text": [
      "Processed image saved to C:\\Users\\saksh\\Desktop\\project\\outputs\\Redlight 3\\4.jpg\n",
      "Vehicle counts for Signal 3, image 4: {'car': 10, 'motorcycle': 0, 'bus': 1, 'truck': 2}\n"
     ]
    },
    {
     "name": "stderr",
     "output_type": "stream",
     "text": [
      "C:\\Users\\saksh/.cache\\torch\\hub\\ultralytics_yolov5_master\\models\\common.py:894: FutureWarning: `torch.cuda.amp.autocast(args...)` is deprecated. Please use `torch.amp.autocast('cuda', args...)` instead.\n",
      "  with amp.autocast(autocast):\n"
     ]
    },
    {
     "name": "stdout",
     "output_type": "stream",
     "text": [
      "Processed image saved to C:\\Users\\saksh\\Desktop\\project\\outputs\\Redlight 4\\4.jpg\n",
      "Vehicle counts for Signal 4, image 4: {'car': 1, 'motorcycle': 0, 'bus': 1, 'truck': 1}\n"
     ]
    },
    {
     "name": "stdin",
     "output_type": "stream",
     "text": [
      "Press Enter to process the next set of images...\n",
      " \n"
     ]
    },
    {
     "name": "stdout",
     "output_type": "stream",
     "text": [
      "Processing image set 5...\n"
     ]
    },
    {
     "name": "stderr",
     "output_type": "stream",
     "text": [
      "C:\\Users\\saksh/.cache\\torch\\hub\\ultralytics_yolov5_master\\models\\common.py:894: FutureWarning: `torch.cuda.amp.autocast(args...)` is deprecated. Please use `torch.amp.autocast('cuda', args...)` instead.\n",
      "  with amp.autocast(autocast):\n"
     ]
    },
    {
     "name": "stdout",
     "output_type": "stream",
     "text": [
      "Processed image saved to C:\\Users\\saksh\\Desktop\\project\\outputs\\Redlight 1\\5.jpg\n",
      "Vehicle counts for Signal 1, image 5: {'car': 10, 'motorcycle': 0, 'bus': 1, 'truck': 2}\n"
     ]
    },
    {
     "name": "stderr",
     "output_type": "stream",
     "text": [
      "C:\\Users\\saksh/.cache\\torch\\hub\\ultralytics_yolov5_master\\models\\common.py:894: FutureWarning: `torch.cuda.amp.autocast(args...)` is deprecated. Please use `torch.amp.autocast('cuda', args...)` instead.\n",
      "  with amp.autocast(autocast):\n"
     ]
    },
    {
     "name": "stdout",
     "output_type": "stream",
     "text": [
      "Processed image saved to C:\\Users\\saksh\\Desktop\\project\\outputs\\Redlight 2\\5.jpg\n",
      "Vehicle counts for Signal 2, image 5: {'car': 1, 'motorcycle': 0, 'bus': 1, 'truck': 1}\n"
     ]
    },
    {
     "name": "stderr",
     "output_type": "stream",
     "text": [
      "C:\\Users\\saksh/.cache\\torch\\hub\\ultralytics_yolov5_master\\models\\common.py:894: FutureWarning: `torch.cuda.amp.autocast(args...)` is deprecated. Please use `torch.amp.autocast('cuda', args...)` instead.\n",
      "  with amp.autocast(autocast):\n"
     ]
    },
    {
     "name": "stdout",
     "output_type": "stream",
     "text": [
      "Processed image saved to C:\\Users\\saksh\\Desktop\\project\\outputs\\Redlight 3\\5.jpg\n",
      "Vehicle counts for Signal 3, image 5: {'car': 2, 'motorcycle': 0, 'bus': 0, 'truck': 1}\n"
     ]
    },
    {
     "name": "stderr",
     "output_type": "stream",
     "text": [
      "C:\\Users\\saksh/.cache\\torch\\hub\\ultralytics_yolov5_master\\models\\common.py:894: FutureWarning: `torch.cuda.amp.autocast(args...)` is deprecated. Please use `torch.amp.autocast('cuda', args...)` instead.\n",
      "  with amp.autocast(autocast):\n"
     ]
    },
    {
     "name": "stdout",
     "output_type": "stream",
     "text": [
      "Processed image saved to C:\\Users\\saksh\\Desktop\\project\\outputs\\Redlight 4\\5.jpg\n",
      "Vehicle counts for Signal 4, image 5: {'car': 0, 'motorcycle': 0, 'bus': 0, 'truck': 1}\n"
     ]
    },
    {
     "name": "stdin",
     "output_type": "stream",
     "text": [
      "Press Enter to process the next set of images...\n",
      " \n"
     ]
    },
    {
     "name": "stdout",
     "output_type": "stream",
     "text": [
      "Vehicle counts saved to C:\\Users\\saksh\\Desktop\\project\\outputs\\vehicle_counts.csv\n"
     ]
    }
   ],
   "source": [
    "import torch\n",
    "from pathlib import Path\n",
    "import cv2\n",
    "from matplotlib import pyplot as plt\n",
    "import pandas as pd\n",
    "\n",
    "#YOLOv5s model (trained on COCO dataset)\n",
    "model = torch.hub.load('ultralytics/yolov5', 'yolov5s', pretrained=True)\n",
    "\n",
    "#classes\n",
    "vehicle_classes = ['car', 'motorcycle', 'bus', 'truck']\n",
    "\n",
    "def detect_and_classify(image_path, save_dir, confidence_threshold=0.37):\n",
    "    #image\n",
    "    img = cv2.imread(image_path)\n",
    "    img_rgb = cv2.cvtColor(img, cv2.COLOR_BGR2RGB)  # Convert BGR to RGB for visualization\n",
    "\n",
    "    #detection\n",
    "    results = model(img)\n",
    "\n",
    "    #filter\n",
    "    detections = results.pandas().xyxy[0]  #results as pandas DataFrame\n",
    "    vehicle_detections = detections[detections['name'].isin(vehicle_classes)]\n",
    "\n",
    "    #list to store bounding boxes and their confidence scores\n",
    "    boxes_with_confidence = []\n",
    "\n",
    "    #dictionary to count vehicle classes\n",
    "    vehicle_counts = {cls: 0 for cls in vehicle_classes}\n",
    "\n",
    "    #filter detections based on confidence threshold\n",
    "    for _, row in vehicle_detections.iterrows():\n",
    "        conf, cls = row['confidence'], row['name']\n",
    "        if conf > confidence_threshold:\n",
    "            x1, y1, x2, y2 = int(row['xmin']), int(row['ymin']), int(row['xmax']), int(row['ymax'])\n",
    "            label = f\"{cls} {conf:.2f}\"\n",
    "            color = (0, 255, 0)  #green for boxes\n",
    "\n",
    "            #bounding boxes in list\n",
    "            boxes_with_confidence.append({\n",
    "                'class': cls,\n",
    "                'confidence': conf,\n",
    "                'bbox': [x1, y1, x2, y2]\n",
    "            })\n",
    "\n",
    "            #count vehicles detected\n",
    "            vehicle_counts[cls] += 1\n",
    "\n",
    "            #label the images\n",
    "            cv2.rectangle(img, (x1, y1), (x2, y2), color, 2)\n",
    "            cv2.putText(img, label, (x1, y1 - 10), cv2.FONT_HERSHEY_SIMPLEX, 0.5, color, 2)\n",
    "\n",
    "    #display the result\n",
    "    output_path = Path(save_dir) / Path(image_path).name\n",
    "    cv2.imwrite(str(output_path), img)\n",
    "\n",
    "    plt.imshow(img_rgb)\n",
    "    plt.axis('off')\n",
    "    plt.show()\n",
    "\n",
    "    print(f\"Processed image saved to {output_path}\")\n",
    "\n",
    "    #return the list of bounding boxes with confidence scores and vehicle counts\n",
    "    return boxes_with_confidence, vehicle_counts\n",
    "\n",
    "\n",
    "#folders containing the images\n",
    "folders = [\n",
    "    Path('C:\\\\Users\\\\saksh\\\\Desktop\\\\project\\\\Inputs\\\\Redlight 1\\\\'),\n",
    "    Path('C:\\\\Users\\\\saksh\\\\Desktop\\\\project\\\\Inputs\\\\Redlight 2\\\\'),\n",
    "    Path('C:\\\\Users\\\\saksh\\\\Desktop\\\\project\\\\Inputs\\\\Redlight 3\\\\'),\n",
    "    Path('C:\\\\Users\\\\saksh\\\\Desktop\\\\project\\\\Inputs\\\\Redlight 4\\\\')\n",
    "]\n",
    "\n",
    "#folder exists\n",
    "folders = [Path(folder) for folder in folders]\n",
    "for folder in folders:\n",
    "    assert folder.exists(), f\"Folder {folder} does not exist.\"\n",
    "\n",
    "#collect and sort image paths by filename\n",
    "images_in_folders = [sorted(folder.glob(\"*.jpg\"), key=lambda x: int(x.stem)) for folder in folders]\n",
    "\n",
    "#output directory\n",
    "base_output_dir = Path(\"C:\\\\Users\\\\saksh\\\\Desktop\\\\project\\\\outputs\\\\\")\n",
    "\n",
    "#output directories\n",
    "output_dirs = [base_output_dir / folder.name for folder in folders]\n",
    "\n",
    "for output_dir in output_dirs:\n",
    "    output_dir.mkdir(parents=True, exist_ok=True)\n",
    "\n",
    "#initialize an index to track which image to process from each folder\n",
    "current_index = 0\n",
    "max_images = min(len(images) for images in images_in_folders)  # Ensure all folders have the same number of images\n",
    "\n",
    "#store vehicle counts for each signal\n",
    "vehicle_counts_df = pd.DataFrame(columns=['Signal', 'Image', 'Car', 'Motorcycle', 'Bus', 'Truck'])\n",
    "\n",
    "while current_index < max_images:\n",
    "    print(f\"Processing image set {current_index + 1}...\")\n",
    "    \n",
    "    #process 1 image\n",
    "    for i, (folder_images, output_dir) in enumerate(zip(images_in_folders, output_dirs)):\n",
    "        image_path = folder_images[current_index]\n",
    "        _, vehicle_counts = detect_and_classify(str(image_path), str(output_dir))\n",
    "        \n",
    "        #create a new row as a DataFrame\n",
    "        new_row = pd.DataFrame({\n",
    "            'Signal': [f'Redlight {i + 1}'],\n",
    "            'Image': [image_path.name],\n",
    "            'Car': [vehicle_counts['car']],\n",
    "            'Motorcycle': [vehicle_counts['motorcycle']],\n",
    "            'Bus': [vehicle_counts['bus']],\n",
    "            'Truck': [vehicle_counts['truck']]\n",
    "        })\n",
    "        \n",
    "        #concatenate the new row with existing DataFrame\n",
    "        vehicle_counts_df = pd.concat([vehicle_counts_df, new_row], ignore_index=True)\n",
    "        \n",
    "        print(f\"Vehicle counts for Signal {i + 1}, image {current_index + 1}: {vehicle_counts}\")\n",
    "    \n",
    "    input(\"Press Enter to process the next set of images...\\n\")\n",
    "    current_index += 1\n",
    "\n",
    "#csv file\n",
    "output_csv = base_output_dir / 'vehicle_counts.csv'\n",
    "vehicle_counts_df.to_csv(output_csv, index=False)\n",
    "print(f\"Vehicle counts saved to {output_csv}\")"
   ]
  },
  {
   "cell_type": "code",
   "execution_count": null,
   "id": "d22816b7-5cfe-45e1-83df-b6b432ba49cb",
   "metadata": {},
   "outputs": [],
   "source": []
  },
  {
   "cell_type": "code",
   "execution_count": null,
   "id": "500a87cc-31c3-457b-bf88-42a314b2fafe",
   "metadata": {},
   "outputs": [],
   "source": []
  },
  {
   "cell_type": "code",
   "execution_count": null,
   "id": "1d87c9c8-e020-4940-9209-278b573be835",
   "metadata": {},
   "outputs": [],
   "source": []
  },
  {
   "cell_type": "code",
   "execution_count": null,
   "id": "19d6b390-2a75-45bd-9592-b8cb92fafaa5",
   "metadata": {},
   "outputs": [],
   "source": []
  },
  {
   "cell_type": "code",
   "execution_count": null,
   "id": "b2cbedbe-2c05-4fa9-9400-e7bf03d4bc00",
   "metadata": {},
   "outputs": [],
   "source": []
  },
  {
   "cell_type": "code",
   "execution_count": null,
   "id": "7c2dcd6b-0b80-449f-88af-638c590f5e2b",
   "metadata": {},
   "outputs": [],
   "source": []
  },
  {
   "cell_type": "code",
   "execution_count": null,
   "id": "0831f3b2-6e1c-48a5-a3be-3740fcc8449e",
   "metadata": {},
   "outputs": [
    {
     "name": "stderr",
     "output_type": "stream",
     "text": [
      "Using cache found in C:\\Users\\saksh/.cache\\torch\\hub\\ultralytics_yolov5_master\n",
      "YOLOv5  2025-1-26 Python-3.10.0 torch-2.6.0+cpu CPU\n",
      "\n",
      "Fusing layers... \n",
      "YOLOv5s summary: 213 layers, 7225885 parameters, 0 gradients, 16.4 GFLOPs\n",
      "Adding AutoShape... \n",
      "C:\\Users\\saksh/.cache\\torch\\hub\\ultralytics_yolov5_master\\models\\common.py:894: FutureWarning: `torch.cuda.amp.autocast(args...)` is deprecated. Please use `torch.amp.autocast('cuda', args...)` instead.\n",
      "  with amp.autocast(autocast):\n"
     ]
    },
    {
     "name": "stdout",
     "output_type": "stream",
     "text": [
      "\n",
      "Starting Round 1...\n",
      "\n",
      "Processing 1.jpg for Redlight 1...\n",
      "Signal 1 GREEN for 22 seconds.\n",
      "Signal 1 GREEN: 1 seconds remainingg\n",
      "Signal 1 YELLOW for 3 seconds.\n",
      "Processing 1.jpg for Redlight 2...ng\n"
     ]
    },
    {
     "name": "stderr",
     "output_type": "stream",
     "text": [
      "C:\\Users\\saksh/.cache\\torch\\hub\\ultralytics_yolov5_master\\models\\common.py:894: FutureWarning: `torch.cuda.amp.autocast(args...)` is deprecated. Please use `torch.amp.autocast('cuda', args...)` instead.\n",
      "  with amp.autocast(autocast):\n"
     ]
    },
    {
     "name": "stdout",
     "output_type": "stream",
     "text": [
      "Signal 2 GREEN for 1 seconds.\n",
      "Signal 2 GREEN: 1 seconds remaining\n",
      "Signal 2 YELLOW for 3 seconds.\n",
      "Processing 1.jpg for Redlight 3...ng\n"
     ]
    },
    {
     "name": "stderr",
     "output_type": "stream",
     "text": [
      "C:\\Users\\saksh/.cache\\torch\\hub\\ultralytics_yolov5_master\\models\\common.py:894: FutureWarning: `torch.cuda.amp.autocast(args...)` is deprecated. Please use `torch.amp.autocast('cuda', args...)` instead.\n",
      "  with amp.autocast(autocast):\n"
     ]
    },
    {
     "name": "stdout",
     "output_type": "stream",
     "text": [
      "Signal 3 GREEN for 13 seconds.\n",
      "Signal 3 GREEN: 1 seconds remainingg\n",
      "Signal 3 YELLOW for 3 seconds.\n",
      "Processing 1.jpg for Redlight 4...ng\n"
     ]
    },
    {
     "name": "stderr",
     "output_type": "stream",
     "text": [
      "C:\\Users\\saksh/.cache\\torch\\hub\\ultralytics_yolov5_master\\models\\common.py:894: FutureWarning: `torch.cuda.amp.autocast(args...)` is deprecated. Please use `torch.amp.autocast('cuda', args...)` instead.\n",
      "  with amp.autocast(autocast):\n"
     ]
    },
    {
     "name": "stdout",
     "output_type": "stream",
     "text": [
      "Signal 4 GREEN for 1 seconds.\n",
      "Signal 4 GREEN: 1 seconds remaining\n",
      "Signal 4 YELLOW for 3 seconds.\n",
      "Round 1 completed. seconds remaining\n",
      "\n",
      "\n",
      "Starting Round 2...\n",
      "\n",
      "Processing 2.jpg for Redlight 1...\n"
     ]
    },
    {
     "name": "stderr",
     "output_type": "stream",
     "text": [
      "C:\\Users\\saksh/.cache\\torch\\hub\\ultralytics_yolov5_master\\models\\common.py:894: FutureWarning: `torch.cuda.amp.autocast(args...)` is deprecated. Please use `torch.amp.autocast('cuda', args...)` instead.\n",
      "  with amp.autocast(autocast):\n"
     ]
    },
    {
     "name": "stdout",
     "output_type": "stream",
     "text": [
      "Signal 1 GREEN for 1 seconds.\n",
      "Signal 1 GREEN: 1 seconds remaining\n",
      "Signal 1 YELLOW for 3 seconds.\n",
      "Processing 2.jpg for Redlight 2...ng\n"
     ]
    },
    {
     "name": "stderr",
     "output_type": "stream",
     "text": [
      "C:\\Users\\saksh/.cache\\torch\\hub\\ultralytics_yolov5_master\\models\\common.py:894: FutureWarning: `torch.cuda.amp.autocast(args...)` is deprecated. Please use `torch.amp.autocast('cuda', args...)` instead.\n",
      "  with amp.autocast(autocast):\n"
     ]
    },
    {
     "name": "stdout",
     "output_type": "stream",
     "text": [
      "Signal 2 GREEN for 18 seconds.\n",
      "Signal 2 GREEN: 1 seconds remainingg\n",
      "Signal 2 YELLOW for 3 seconds.\n",
      "Processing 2.jpg for Redlight 3...ng\n"
     ]
    },
    {
     "name": "stderr",
     "output_type": "stream",
     "text": [
      "C:\\Users\\saksh/.cache\\torch\\hub\\ultralytics_yolov5_master\\models\\common.py:894: FutureWarning: `torch.cuda.amp.autocast(args...)` is deprecated. Please use `torch.amp.autocast('cuda', args...)` instead.\n",
      "  with amp.autocast(autocast):\n"
     ]
    },
    {
     "name": "stdout",
     "output_type": "stream",
     "text": [
      "Signal 3 GREEN for 1 seconds.\n",
      "Signal 3 GREEN: 1 seconds remaining\n",
      "Signal 3 YELLOW for 3 seconds.\n",
      "Processing 2.jpg for Redlight 4...ng\n"
     ]
    },
    {
     "name": "stderr",
     "output_type": "stream",
     "text": [
      "C:\\Users\\saksh/.cache\\torch\\hub\\ultralytics_yolov5_master\\models\\common.py:894: FutureWarning: `torch.cuda.amp.autocast(args...)` is deprecated. Please use `torch.amp.autocast('cuda', args...)` instead.\n",
      "  with amp.autocast(autocast):\n"
     ]
    },
    {
     "name": "stdout",
     "output_type": "stream",
     "text": [
      "Signal 4 GREEN for 3 seconds.\n",
      "Signal 4 GREEN: 1 seconds remaining\n",
      "Signal 4 YELLOW for 3 seconds.\n",
      "Round 2 completed. seconds remaining\n",
      "\n",
      "\n",
      "Starting Round 3...\n",
      "\n",
      "Processing 3.jpg for Redlight 1...\n"
     ]
    },
    {
     "name": "stderr",
     "output_type": "stream",
     "text": [
      "C:\\Users\\saksh/.cache\\torch\\hub\\ultralytics_yolov5_master\\models\\common.py:894: FutureWarning: `torch.cuda.amp.autocast(args...)` is deprecated. Please use `torch.amp.autocast('cuda', args...)` instead.\n",
      "  with amp.autocast(autocast):\n"
     ]
    },
    {
     "name": "stdout",
     "output_type": "stream",
     "text": [
      "Signal 1 GREEN for 1 seconds.\n",
      "Signal 1 GREEN: 1 seconds remaining\n",
      "Signal 1 YELLOW for 3 seconds.\n",
      "Processing 3.jpg for Redlight 2...ng\n"
     ]
    },
    {
     "name": "stderr",
     "output_type": "stream",
     "text": [
      "C:\\Users\\saksh/.cache\\torch\\hub\\ultralytics_yolov5_master\\models\\common.py:894: FutureWarning: `torch.cuda.amp.autocast(args...)` is deprecated. Please use `torch.amp.autocast('cuda', args...)` instead.\n",
      "  with amp.autocast(autocast):\n"
     ]
    },
    {
     "name": "stdout",
     "output_type": "stream",
     "text": [
      "Signal 2 GREEN for 1 seconds.\n",
      "Signal 2 GREEN: 1 seconds remaining\n",
      "Signal 2 YELLOW for 3 seconds.\n",
      "Processing 3.jpg for Redlight 3...ng\n"
     ]
    },
    {
     "name": "stderr",
     "output_type": "stream",
     "text": [
      "C:\\Users\\saksh/.cache\\torch\\hub\\ultralytics_yolov5_master\\models\\common.py:894: FutureWarning: `torch.cuda.amp.autocast(args...)` is deprecated. Please use `torch.amp.autocast('cuda', args...)` instead.\n",
      "  with amp.autocast(autocast):\n"
     ]
    },
    {
     "name": "stdout",
     "output_type": "stream",
     "text": [
      "Signal 3 GREEN for 8 seconds.\n",
      "Signal 3 GREEN: 1 seconds remaining\n",
      "Signal 3 YELLOW for 3 seconds.\n",
      "Processing 3.jpg for Redlight 4...ng\n"
     ]
    },
    {
     "name": "stderr",
     "output_type": "stream",
     "text": [
      "C:\\Users\\saksh/.cache\\torch\\hub\\ultralytics_yolov5_master\\models\\common.py:894: FutureWarning: `torch.cuda.amp.autocast(args...)` is deprecated. Please use `torch.amp.autocast('cuda', args...)` instead.\n",
      "  with amp.autocast(autocast):\n"
     ]
    },
    {
     "name": "stdout",
     "output_type": "stream",
     "text": [
      "Signal 4 GREEN for 14 seconds.\n",
      "Signal 4 GREEN: 1 seconds remainingg\n",
      "Signal 4 YELLOW for 3 seconds.\n",
      "Signal 4 YELLOW: 1 seconds remaining"
     ]
    }
   ],
   "source": [
    "import torch\n",
    "import cv2\n",
    "import time\n",
    "from pathlib import Path\n",
    "from matplotlib import pyplot as plt\n",
    "\n",
    "#YOLOv5s model (trained on COCO dataset)\n",
    "model = torch.hub.load('ultralytics/yolov5', 'yolov5s', pretrained=True)\n",
    "\n",
    "#classes\n",
    "vehicle_classes = ['car', 'motorcycle', 'bus', 'truck']\n",
    "\n",
    "#green time\n",
    "def calculate_green_time(vehicle_counts):\n",
    "    green_time = (vehicle_counts['car'] * 1) + (vehicle_counts['motorcycle'] * 1) + (vehicle_counts['bus'] * 1) + (vehicle_counts['truck'] * 1)\n",
    "    return green_time\n",
    "\n",
    "def detect_and_classify(image_path, confidence_threshold=0.37):\n",
    "    img = cv2.imread(image_path)\n",
    "    img_rgb = cv2.cvtColor(img, cv2.COLOR_BGR2RGB)\n",
    "\n",
    "    results = model(img)\n",
    "\n",
    "    #filter\n",
    "    detections = results.pandas().xyxy[0]  \n",
    "    vehicle_detections = detections[detections['name'].isin(vehicle_classes)]\n",
    "\n",
    "    vehicle_counts = {cls: 0 for cls in vehicle_classes}\n",
    "\n",
    "    for _, row in vehicle_detections.iterrows():\n",
    "        conf, cls = row['confidence'], row['name']\n",
    "        if conf > confidence_threshold:\n",
    "            vehicle_counts[cls] += 1\n",
    "\n",
    "    return vehicle_counts\n",
    "\n",
    "def simulate_traffic_lights(folders):\n",
    "    for round_index in range(5): \n",
    "        print(f\"\\nStarting Round {round_index + 1}...\\n\")\n",
    "\n",
    "        for signal_id, folder in enumerate(folders):\n",
    "            #get the current image from each folder\n",
    "            image_path = folder / f\"{round_index + 1}.jpg\"\n",
    "            print(f\"Processing {image_path.name} for Redlight {signal_id + 1}...\")\n",
    "\n",
    "            #classify\n",
    "            vehicle_counts = detect_and_classify(str(image_path))\n",
    "\n",
    "            #green time calculation\n",
    "            green_time = calculate_green_time(vehicle_counts)\n",
    "\n",
    "            #countdown\n",
    "            print(f\"Signal {signal_id + 1} GREEN for {green_time} seconds.\")\n",
    "            for t in range(green_time, 0, -1):\n",
    "                print(f\"Signal {signal_id + 1} GREEN: {t} seconds remaining\", end='\\r')\n",
    "                time.sleep(1)\n",
    "\n",
    "            #yellow 3sec\n",
    "            print(f\"\\nSignal {signal_id + 1} YELLOW for 3 seconds.\")\n",
    "            for t in range(3, 0, -1):\n",
    "                print(f\"Signal {signal_id + 1} YELLOW: {t} seconds remaining\", end='\\r')\n",
    "                time.sleep(1)\n",
    "\n",
    "        print(f\"Round {round_index + 1} completed.\\n\")\n",
    "\n",
    "folders = [\n",
    "    Path('C:\\\\Users\\\\saksh\\\\Desktop\\\\project\\\\Inputs\\\\Redlight 1\\\\'),\n",
    "    Path('C:\\\\Users\\\\saksh\\\\Desktop\\\\project\\\\Inputs\\\\Redlight 2\\\\'),\n",
    "    Path('C:\\\\Users\\\\saksh\\\\Desktop\\\\project\\\\Inputs\\\\Redlight 3\\\\'),\n",
    "    Path('C:\\\\Users\\\\saksh\\\\Desktop\\\\project\\\\Inputs\\\\Redlight 4\\\\')\n",
    "]\n",
    "\n",
    "for folder in folders:\n",
    "    assert folder.exists(), f\"Folder {folder} does not exist.\"\n",
    "\n",
    "simulate_traffic_lights(folders)\n"
   ]
  },
  {
   "cell_type": "code",
   "execution_count": null,
   "id": "965b844f-1297-4cbf-a216-8af6fb54f53a",
   "metadata": {},
   "outputs": [],
   "source": []
  }
 ],
 "metadata": {
  "kernelspec": {
   "display_name": "Python 3 (ipykernel)",
   "language": "python",
   "name": "python3"
  },
  "language_info": {
   "codemirror_mode": {
    "name": "ipython",
    "version": 3
   },
   "file_extension": ".py",
   "mimetype": "text/x-python",
   "name": "python",
   "nbconvert_exporter": "python",
   "pygments_lexer": "ipython3",
   "version": "3.10.0"
  }
 },
 "nbformat": 4,
 "nbformat_minor": 5
}
